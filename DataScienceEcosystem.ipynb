{
 "cells": [
  {
   "cell_type": "markdown",
   "id": "7e06ad43-aa3a-42ed-85c2-3252a6af0fb6",
   "metadata": {
    "tags": []
   },
   "source": [
    "#  Data Science Tools and Ecosystem"
   ]
  },
  {
   "cell_type": "markdown",
   "id": "2e8740f9-6fef-4dbc-89f4-784da09464a2",
   "metadata": {},
   "source": [
    "## In this notebook, Data Science Tools and Ecosystem are summarized."
   ]
  },
  {
   "cell_type": "markdown",
   "id": "5c02f39a-8d17-48fc-8ee7-30ad8d0188c8",
   "metadata": {},
   "source": [
    "#### Some of the popular languages that Data Scientists use are:"
   ]
  },
  {
   "cell_type": "markdown",
   "id": "3198c329-d6e7-4606-9c4d-5687c640d9cf",
   "metadata": {
    "tags": []
   },
   "source": [
    "1. Python\n",
    "2. Pyspark\n",
    "3. Java\n",
    "4. C\n",
    "5. C++"
   ]
  },
  {
   "cell_type": "markdown",
   "id": "27978a10-ef3c-45e2-894a-040f4f1fb671",
   "metadata": {},
   "source": [
    "#### Some of the commonly used libraries used by Data Scientists include:"
   ]
  },
  {
   "cell_type": "markdown",
   "id": "fb1a89db-308f-474f-84e8-ca4e9327962b",
   "metadata": {
    "tags": []
   },
   "source": [
    "1. dplr\n",
    "2. Stringr\n",
    "3. ggplot\n",
    "4. caret"
   ]
  },
  {
   "cell_type": "markdown",
   "id": "8632ca6b-650f-4243-9b26-8be2ad6660e2",
   "metadata": {},
   "source": [
    "|Data Science Tools|\n",
    "|:------------------|\n",
    "|Jupyter Notebook|\n",
    "|RStudio|\n",
    "|Spyder|"
   ]
  },
  {
   "cell_type": "markdown",
   "id": "4a67a460-cc87-48f5-8e5b-0520818842a5",
   "metadata": {},
   "source": [
    "###  Below are a few examples of evaluating arithmetic expressions in Python"
   ]
  },
  {
   "cell_type": "code",
   "execution_count": 4,
   "id": "9b6e86fc-12ae-4030-8e20-dc3277a54813",
   "metadata": {
    "tags": []
   },
   "outputs": [
    {
     "data": {
      "text/plain": [
       "17"
      ]
     },
     "execution_count": 4,
     "metadata": {},
     "output_type": "execute_result"
    }
   ],
   "source": [
    "# This a simple arithmetic expression to mutiply then add integers\n",
    "(3*4)+5"
   ]
  },
  {
   "cell_type": "code",
   "execution_count": 5,
   "id": "d7485113-9b1d-4cd9-b77f-7efa0b4f9b4b",
   "metadata": {
    "tags": []
   },
   "outputs": [
    {
     "name": "stdout",
     "output_type": "stream",
     "text": [
      "3.3333333333333335\n"
     ]
    }
   ],
   "source": [
    "# This will convert 200 minutes to hours by diving by 60\n",
    "minutes = 200\n",
    "hours = minutes / 60\n",
    "print(hours)"
   ]
  },
  {
   "cell_type": "markdown",
   "id": "8115ab80-f3ca-4a08-b5cf-f73f8503726b",
   "metadata": {},
   "source": [
    "## In this notebook, Data Science Tools and Ecosystem are summarized.\n",
    "**Objectives:**\n",
    "- Python\n",
    "- R\n",
    "- Java\n",
    "- Scala\n",
    "- Julia"
   ]
  },
  {
   "cell_type": "markdown",
   "id": "319477dd-7a23-4503-a1af-7df7ccecc350",
   "metadata": {},
   "source": [
    "## Author\n",
    "Subash Chandran Paramasivan"
   ]
  },
  {
   "cell_type": "code",
   "execution_count": null,
   "id": "04b6910a-79cc-4378-9956-8f88ca97ce4a",
   "metadata": {},
   "outputs": [],
   "source": []
  }
 ],
 "metadata": {
  "kernelspec": {
   "display_name": "Python 3 (ipykernel)",
   "language": "python",
   "name": "python3"
  },
  "language_info": {
   "codemirror_mode": {
    "name": "ipython",
    "version": 3
   },
   "file_extension": ".py",
   "mimetype": "text/x-python",
   "name": "python",
   "nbconvert_exporter": "python",
   "pygments_lexer": "ipython3",
   "version": "3.11.4"
  }
 },
 "nbformat": 4,
 "nbformat_minor": 5
}
